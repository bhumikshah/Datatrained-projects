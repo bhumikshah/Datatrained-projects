{
 "cells": [
  {
   "cell_type": "markdown",
   "metadata": {},
   "source": [
    "Advertising Sales Channel Prediction"
   ]
  },
  {
   "cell_type": "markdown",
   "metadata": {},
   "source": [
    "# The distribution strategy and the channel design have to be right the first time. The case study of Sales channel includes the detailed study of TV, radio and newspaper channel. The predict the total sales generated from all the sales channel.  This is a Regression problem"
   ]
  },
  {
   "cell_type": "code",
   "execution_count": 2,
   "metadata": {},
   "outputs": [],
   "source": [
    "import numpy as np\n",
    "import pandas as pd\n",
    "import matplotlib.pyplot as plt\n",
    "import seaborn as sns\n",
    "from sklearn.tree import DecisionTreeRegressor\n",
    "from sklearn.svm import SVR\n",
    "from sklearn.neighbors import KNeighborsRegressor\n",
    "from sklearn.ensemble import RandomForestRegressor,AdaBoostRegressor,GradientBoostingRegressor\n",
    "from sklearn.preprocessing import StandardScaler\n",
    "from sklearn.model_selection import GridSearchCV\n",
    "from sklearn.linear_model import LinearRegression\n",
    "from sklearn.metrics import mean_absolute_error,mean_squared_error,r2_score\n",
    "import warnings\n",
    "warnings.filterwarnings('ignore')"
   ]
  },
  {
   "cell_type": "code",
   "execution_count": 3,
   "metadata": {},
   "outputs": [],
   "source": [
    "Sales=pd.read_csv('Sales Prediction.csv')"
   ]
  },
  {
   "cell_type": "code",
   "execution_count": 5,
   "metadata": {},
   "outputs": [
    {
     "data": {
      "text/html": [
       "<div>\n",
       "<style scoped>\n",
       "    .dataframe tbody tr th:only-of-type {\n",
       "        vertical-align: middle;\n",
       "    }\n",
       "\n",
       "    .dataframe tbody tr th {\n",
       "        vertical-align: top;\n",
       "    }\n",
       "\n",
       "    .dataframe thead th {\n",
       "        text-align: right;\n",
       "    }\n",
       "</style>\n",
       "<table border=\"1\" class=\"dataframe\">\n",
       "  <thead>\n",
       "    <tr style=\"text-align: right;\">\n",
       "      <th></th>\n",
       "      <th>Unnamed: 0</th>\n",
       "      <th>TV</th>\n",
       "      <th>radio</th>\n",
       "      <th>newspaper</th>\n",
       "      <th>sales</th>\n",
       "    </tr>\n",
       "  </thead>\n",
       "  <tbody>\n",
       "    <tr>\n",
       "      <th>0</th>\n",
       "      <td>1</td>\n",
       "      <td>230.1</td>\n",
       "      <td>37.8</td>\n",
       "      <td>69.2</td>\n",
       "      <td>22.1</td>\n",
       "    </tr>\n",
       "    <tr>\n",
       "      <th>1</th>\n",
       "      <td>2</td>\n",
       "      <td>44.5</td>\n",
       "      <td>39.3</td>\n",
       "      <td>45.1</td>\n",
       "      <td>10.4</td>\n",
       "    </tr>\n",
       "    <tr>\n",
       "      <th>2</th>\n",
       "      <td>3</td>\n",
       "      <td>17.2</td>\n",
       "      <td>45.9</td>\n",
       "      <td>69.3</td>\n",
       "      <td>9.3</td>\n",
       "    </tr>\n",
       "    <tr>\n",
       "      <th>3</th>\n",
       "      <td>4</td>\n",
       "      <td>151.5</td>\n",
       "      <td>41.3</td>\n",
       "      <td>58.5</td>\n",
       "      <td>18.5</td>\n",
       "    </tr>\n",
       "    <tr>\n",
       "      <th>4</th>\n",
       "      <td>5</td>\n",
       "      <td>180.8</td>\n",
       "      <td>10.8</td>\n",
       "      <td>58.4</td>\n",
       "      <td>12.9</td>\n",
       "    </tr>\n",
       "    <tr>\n",
       "      <th>...</th>\n",
       "      <td>...</td>\n",
       "      <td>...</td>\n",
       "      <td>...</td>\n",
       "      <td>...</td>\n",
       "      <td>...</td>\n",
       "    </tr>\n",
       "    <tr>\n",
       "      <th>195</th>\n",
       "      <td>196</td>\n",
       "      <td>38.2</td>\n",
       "      <td>3.7</td>\n",
       "      <td>13.8</td>\n",
       "      <td>7.6</td>\n",
       "    </tr>\n",
       "    <tr>\n",
       "      <th>196</th>\n",
       "      <td>197</td>\n",
       "      <td>94.2</td>\n",
       "      <td>4.9</td>\n",
       "      <td>8.1</td>\n",
       "      <td>9.7</td>\n",
       "    </tr>\n",
       "    <tr>\n",
       "      <th>197</th>\n",
       "      <td>198</td>\n",
       "      <td>177.0</td>\n",
       "      <td>9.3</td>\n",
       "      <td>6.4</td>\n",
       "      <td>12.8</td>\n",
       "    </tr>\n",
       "    <tr>\n",
       "      <th>198</th>\n",
       "      <td>199</td>\n",
       "      <td>283.6</td>\n",
       "      <td>42.0</td>\n",
       "      <td>66.2</td>\n",
       "      <td>25.5</td>\n",
       "    </tr>\n",
       "    <tr>\n",
       "      <th>199</th>\n",
       "      <td>200</td>\n",
       "      <td>232.1</td>\n",
       "      <td>8.6</td>\n",
       "      <td>8.7</td>\n",
       "      <td>13.4</td>\n",
       "    </tr>\n",
       "  </tbody>\n",
       "</table>\n",
       "<p>200 rows × 5 columns</p>\n",
       "</div>"
      ],
      "text/plain": [
       "     Unnamed: 0     TV  radio  newspaper  sales\n",
       "0             1  230.1   37.8       69.2   22.1\n",
       "1             2   44.5   39.3       45.1   10.4\n",
       "2             3   17.2   45.9       69.3    9.3\n",
       "3             4  151.5   41.3       58.5   18.5\n",
       "4             5  180.8   10.8       58.4   12.9\n",
       "..          ...    ...    ...        ...    ...\n",
       "195         196   38.2    3.7       13.8    7.6\n",
       "196         197   94.2    4.9        8.1    9.7\n",
       "197         198  177.0    9.3        6.4   12.8\n",
       "198         199  283.6   42.0       66.2   25.5\n",
       "199         200  232.1    8.6        8.7   13.4\n",
       "\n",
       "[200 rows x 5 columns]"
      ]
     },
     "execution_count": 5,
     "metadata": {},
     "output_type": "execute_result"
    }
   ],
   "source": [
    "Sales"
   ]
  },
  {
   "cell_type": "code",
   "execution_count": 19,
   "metadata": {},
   "outputs": [],
   "source": [
    "df=pd.read_csv('Sales Prediction.csv',index_col=0)"
   ]
  },
  {
   "cell_type": "code",
   "execution_count": 20,
   "metadata": {},
   "outputs": [
    {
     "data": {
      "text/html": [
       "<div>\n",
       "<style scoped>\n",
       "    .dataframe tbody tr th:only-of-type {\n",
       "        vertical-align: middle;\n",
       "    }\n",
       "\n",
       "    .dataframe tbody tr th {\n",
       "        vertical-align: top;\n",
       "    }\n",
       "\n",
       "    .dataframe thead th {\n",
       "        text-align: right;\n",
       "    }\n",
       "</style>\n",
       "<table border=\"1\" class=\"dataframe\">\n",
       "  <thead>\n",
       "    <tr style=\"text-align: right;\">\n",
       "      <th></th>\n",
       "      <th>TV</th>\n",
       "      <th>radio</th>\n",
       "      <th>newspaper</th>\n",
       "      <th>sales</th>\n",
       "    </tr>\n",
       "  </thead>\n",
       "  <tbody>\n",
       "    <tr>\n",
       "      <th>1</th>\n",
       "      <td>230.1</td>\n",
       "      <td>37.8</td>\n",
       "      <td>69.2</td>\n",
       "      <td>22.1</td>\n",
       "    </tr>\n",
       "    <tr>\n",
       "      <th>2</th>\n",
       "      <td>44.5</td>\n",
       "      <td>39.3</td>\n",
       "      <td>45.1</td>\n",
       "      <td>10.4</td>\n",
       "    </tr>\n",
       "    <tr>\n",
       "      <th>3</th>\n",
       "      <td>17.2</td>\n",
       "      <td>45.9</td>\n",
       "      <td>69.3</td>\n",
       "      <td>9.3</td>\n",
       "    </tr>\n",
       "    <tr>\n",
       "      <th>4</th>\n",
       "      <td>151.5</td>\n",
       "      <td>41.3</td>\n",
       "      <td>58.5</td>\n",
       "      <td>18.5</td>\n",
       "    </tr>\n",
       "    <tr>\n",
       "      <th>5</th>\n",
       "      <td>180.8</td>\n",
       "      <td>10.8</td>\n",
       "      <td>58.4</td>\n",
       "      <td>12.9</td>\n",
       "    </tr>\n",
       "    <tr>\n",
       "      <th>...</th>\n",
       "      <td>...</td>\n",
       "      <td>...</td>\n",
       "      <td>...</td>\n",
       "      <td>...</td>\n",
       "    </tr>\n",
       "    <tr>\n",
       "      <th>196</th>\n",
       "      <td>38.2</td>\n",
       "      <td>3.7</td>\n",
       "      <td>13.8</td>\n",
       "      <td>7.6</td>\n",
       "    </tr>\n",
       "    <tr>\n",
       "      <th>197</th>\n",
       "      <td>94.2</td>\n",
       "      <td>4.9</td>\n",
       "      <td>8.1</td>\n",
       "      <td>9.7</td>\n",
       "    </tr>\n",
       "    <tr>\n",
       "      <th>198</th>\n",
       "      <td>177.0</td>\n",
       "      <td>9.3</td>\n",
       "      <td>6.4</td>\n",
       "      <td>12.8</td>\n",
       "    </tr>\n",
       "    <tr>\n",
       "      <th>199</th>\n",
       "      <td>283.6</td>\n",
       "      <td>42.0</td>\n",
       "      <td>66.2</td>\n",
       "      <td>25.5</td>\n",
       "    </tr>\n",
       "    <tr>\n",
       "      <th>200</th>\n",
       "      <td>232.1</td>\n",
       "      <td>8.6</td>\n",
       "      <td>8.7</td>\n",
       "      <td>13.4</td>\n",
       "    </tr>\n",
       "  </tbody>\n",
       "</table>\n",
       "<p>200 rows × 4 columns</p>\n",
       "</div>"
      ],
      "text/plain": [
       "        TV  radio  newspaper  sales\n",
       "1    230.1   37.8       69.2   22.1\n",
       "2     44.5   39.3       45.1   10.4\n",
       "3     17.2   45.9       69.3    9.3\n",
       "4    151.5   41.3       58.5   18.5\n",
       "5    180.8   10.8       58.4   12.9\n",
       "..     ...    ...        ...    ...\n",
       "196   38.2    3.7       13.8    7.6\n",
       "197   94.2    4.9        8.1    9.7\n",
       "198  177.0    9.3        6.4   12.8\n",
       "199  283.6   42.0       66.2   25.5\n",
       "200  232.1    8.6        8.7   13.4\n",
       "\n",
       "[200 rows x 4 columns]"
      ]
     },
     "execution_count": 20,
     "metadata": {},
     "output_type": "execute_result"
    }
   ],
   "source": [
    "df"
   ]
  },
  {
   "cell_type": "markdown",
   "metadata": {},
   "source": [
    "There are in total 200 records and 4 columns. The output(target) varaiable is sales which is continuous in nature so it is problem of regresssion."
   ]
  },
  {
   "cell_type": "code",
   "execution_count": 21,
   "metadata": {},
   "outputs": [
    {
     "name": "stdout",
     "output_type": "stream",
     "text": [
      "<class 'pandas.core.frame.DataFrame'>\n",
      "Int64Index: 200 entries, 1 to 200\n",
      "Data columns (total 4 columns):\n",
      " #   Column     Non-Null Count  Dtype  \n",
      "---  ------     --------------  -----  \n",
      " 0   TV         200 non-null    float64\n",
      " 1   radio      200 non-null    float64\n",
      " 2   newspaper  200 non-null    float64\n",
      " 3   sales      200 non-null    float64\n",
      "dtypes: float64(4)\n",
      "memory usage: 7.8 KB\n"
     ]
    }
   ],
   "source": [
    "df.info()"
   ]
  },
  {
   "cell_type": "markdown",
   "metadata": {},
   "source": [
    " There are no null values present in any of the features. The datatype of all the features are float."
   ]
  },
  {
   "cell_type": "code",
   "execution_count": 22,
   "metadata": {},
   "outputs": [
    {
     "data": {
      "text/plain": [
       "<AxesSubplot:>"
      ]
     },
     "execution_count": 22,
     "metadata": {},
     "output_type": "execute_result"
    },
    {
     "data": {
      "image/png": "[encoded data removed]",
      "text/plain": [
       "<Figure size 432x288 with 2 Axes>"
      ]
     },
     "metadata": {
      "needs_background": "light"
     },
     "output_type": "display_data"
    }
   ],
   "source": [
    "sns.heatmap(df.isnull())"
   ]
  },
  {
   "cell_type": "code",
   "execution_count": 23,
   "metadata": {},
   "outputs": [
    {
     "data": {
      "text/html": [
       "<div>\n",
       "<style scoped>\n",
       "    .dataframe tbody tr th:only-of-type {\n",
       "        vertical-align: middle;\n",
       "    }\n",
       "\n",
       "    .dataframe tbody tr th {\n",
       "        vertical-align: top;\n",
       "    }\n",
       "\n",
       "    .dataframe thead th {\n",
       "        text-align: right;\n",
       "    }\n",
       "</style>\n",
       "<table border=\"1\" class=\"dataframe\">\n",
       "  <thead>\n",
       "    <tr style=\"text-align: right;\">\n",
       "      <th></th>\n",
       "      <th>TV</th>\n",
       "      <th>radio</th>\n",
       "      <th>newspaper</th>\n",
       "      <th>sales</th>\n",
       "    </tr>\n",
       "  </thead>\n",
       "  <tbody>\n",
       "    <tr>\n",
       "      <th>count</th>\n",
       "      <td>200.000000</td>\n",
       "      <td>200.000000</td>\n",
       "      <td>200.000000</td>\n",
       "      <td>200.000000</td>\n",
       "    </tr>\n",
       "    <tr>\n",
       "      <th>mean</th>\n",
       "      <td>147.042500</td>\n",
       "      <td>23.264000</td>\n",
       "      <td>30.554000</td>\n",
       "      <td>14.022500</td>\n",
       "    </tr>\n",
       "    <tr>\n",
       "      <th>std</th>\n",
       "      <td>85.854236</td>\n",
       "      <td>14.846809</td>\n",
       "      <td>21.778621</td>\n",
       "      <td>5.217457</td>\n",
       "    </tr>\n",
       "    <tr>\n",
       "      <th>min</th>\n",
       "      <td>0.700000</td>\n",
       "      <td>0.000000</td>\n",
       "      <td>0.300000</td>\n",
       "      <td>1.600000</td>\n",
       "    </tr>\n",
       "    <tr>\n",
       "      <th>25%</th>\n",
       "      <td>74.375000</td>\n",
       "      <td>9.975000</td>\n",
       "      <td>12.750000</td>\n",
       "      <td>10.375000</td>\n",
       "    </tr>\n",
       "    <tr>\n",
       "      <th>50%</th>\n",
       "      <td>149.750000</td>\n",
       "      <td>22.900000</td>\n",
       "      <td>25.750000</td>\n",
       "      <td>12.900000</td>\n",
       "    </tr>\n",
       "    <tr>\n",
       "      <th>75%</th>\n",
       "      <td>218.825000</td>\n",
       "      <td>36.525000</td>\n",
       "      <td>45.100000</td>\n",
       "      <td>17.400000</td>\n",
       "    </tr>\n",
       "    <tr>\n",
       "      <th>max</th>\n",
       "      <td>296.400000</td>\n",
       "      <td>49.600000</td>\n",
       "      <td>114.000000</td>\n",
       "      <td>27.000000</td>\n",
       "    </tr>\n",
       "  </tbody>\n",
       "</table>\n",
       "</div>"
      ],
      "text/plain": [
       "               TV       radio   newspaper       sales\n",
       "count  200.000000  200.000000  200.000000  200.000000\n",
       "mean   147.042500   23.264000   30.554000   14.022500\n",
       "std     85.854236   14.846809   21.778621    5.217457\n",
       "min      0.700000    0.000000    0.300000    1.600000\n",
       "25%     74.375000    9.975000   12.750000   10.375000\n",
       "50%    149.750000   22.900000   25.750000   12.900000\n",
       "75%    218.825000   36.525000   45.100000   17.400000\n",
       "max    296.400000   49.600000  114.000000   27.000000"
      ]
     },
     "execution_count": 23,
     "metadata": {},
     "output_type": "execute_result"
    }
   ],
   "source": [
    "df.describe()"
   ]
  },
  {
   "cell_type": "markdown",
   "metadata": {},
   "source": [
    "For the feature named as TV it is having left tailed skewness as median is greater than mean. Further, the feature radio and newspaper are having right tailed skewness as mean is greater than median."
   ]
  },
  {
   "cell_type": "markdown",
   "metadata": {},
   "source": [
    "There are chances of outliers present in newspaper feature as there is a hugh difference between 75% and max value of that feature."
   ]
  },
  {
   "cell_type": "code",
   "execution_count": 27,
   "metadata": {},
   "outputs": [
    {
     "data": {
      "image/png": "[encoded data removed]",
      "text/plain": [
       "<Figure size 432x288 with 1 Axes>"
      ]
     },
     "metadata": {
      "needs_background": "light"
     },
     "output_type": "display_data"
    },
    {
     "data": {
      "image/png": "[encoded data removed]",
      "text/plain": [
       "<Figure size 432x288 with 1 Axes>"
      ]
     },
     "metadata": {
      "needs_background": "light"
     },
     "output_type": "display_data"
    },
    {
     "data": {
      "image/png": "[encoded data removed]",
      "text/plain": [
       "<Figure size 432x288 with 1 Axes>"
      ]
     },
     "metadata": {
      "needs_background": "light"
     },
     "output_type": "display_data"
    },
    {
     "data": {
      "image/png": "[encoded data removed]",
      "text/plain": [
       "<Figure size 432x288 with 1 Axes>"
      ]
     },
     "metadata": {
      "needs_background": "light"
     },
     "output_type": "display_data"
    }
   ],
   "source": [
    "for i in df.columns:\n",
    "    plt.figure()\n",
    "    sns.distplot(df[i])\n",
    "    plt.show()"
   ]
  },
  {
   "cell_type": "code",
   "execution_count": 28,
   "metadata": {},
   "outputs": [
    {
     "data": {
      "image/png": "[encoded data removed]",
      "text/plain": [
       "<Figure size 432x288 with 1 Axes>"
      ]
     },
     "metadata": {
      "needs_background": "light"
     },
     "output_type": "display_data"
    },
    {
     "data": {
      "image/png": "[encoded data removed]",
      "text/plain": [
       "<Figure size 432x288 with 1 Axes>"
      ]
     },
     "metadata": {
      "needs_background": "light"
     },
     "output_type": "display_data"
    },
    {
     "data": {
      "image/png": "[encoded data removed]",
      "text/plain": [
       "<Figure size 432x288 with 1 Axes>"
      ]
     },
     "metadata": {
      "needs_background": "light"
     },
     "output_type": "display_data"
    },
    {
     "data": {
      "image/png": "[encoded data removed]",
      "text/plain": [
       "<Figure size 432x288 with 1 Axes>"
      ]
     },
     "metadata": {
      "needs_background": "light"
     },
     "output_type": "display_data"
    }
   ],
   "source": [
    "for i in df.columns:\n",
    "    plt.figure()\n",
    "    sns.boxplot(df[i])\n",
    "    plt.show()"
   ]
  },
  {
   "cell_type": "markdown",
   "metadata": {},
   "source": [
    "There are outliers present in newspaper feature which has been confirmed from box plot."
   ]
  },
  {
   "cell_type": "code",
   "execution_count": 30,
   "metadata": {},
   "outputs": [
    {
     "data": {
      "text/plain": [
       "<AxesSubplot:xlabel='TV', ylabel='sales'>"
      ]
     },
     "execution_count": 30,
     "metadata": {},
     "output_type": "execute_result"
    },
    {
     "data": {
      "image/png": "[encoded data removed]",
      "text/plain": [
       "<Figure size 432x288 with 1 Axes>"
      ]
     },
     "metadata": {
      "needs_background": "light"
     },
     "output_type": "display_data"
    }
   ],
   "source": [
    "sns.scatterplot(x='TV',y='sales',data=df)"
   ]
  },
  {
   "cell_type": "markdown",
   "metadata": {},
   "source": [
    "There is a positive linear correlation between TV feature and sales feature. Further, more the amount of money pumped for advertisement on TV better are the sales figure."
   ]
  },
  {
   "cell_type": "code",
   "execution_count": 31,
   "metadata": {},
   "outputs": [
    {
     "data": {
      "text/plain": [
       "<AxesSubplot:xlabel='radio', ylabel='sales'>"
      ]
     },
     "execution_count": 31,
     "metadata": {},
     "output_type": "execute_result"
    },
    {
     "data": {
      "image/png": "[encoded data removed]",
      "text/plain": [
       "<Figure size 432x288 with 1 Axes>"
      ]
     },
     "metadata": {
      "needs_background": "light"
     },
     "output_type": "display_data"
    }
   ],
   "source": [
    "sns.scatterplot(x='radio',y='sales',data=df)"
   ]
  },
  {
   "cell_type": "markdown",
   "metadata": {},
   "source": [
    "There is a positive linear correlation between radio and sales feature. "
   ]
  },
  {
   "cell_type": "code",
   "execution_count": 35,
   "metadata": {},
   "outputs": [
    {
     "data": {
      "text/plain": [
       "<AxesSubplot:xlabel='newspaper', ylabel='sales'>"
      ]
     },
     "execution_count": 35,
     "metadata": {},
     "output_type": "execute_result"
    },
    {
     "data": {
      "image/png": "[encoded data removed]",
      "text/plain": [
       "<Figure size 432x288 with 1 Axes>"
      ]
     },
     "metadata": {
      "needs_background": "light"
     },
     "output_type": "display_data"
    }
   ],
   "source": [
    "sns.scatterplot(x='newspaper',y='sales',data=df)"
   ]
  },
  {
   "cell_type": "markdown",
   "metadata": {},
   "source": [
    "There is a positive linear correlation between newspaper  and sales feature. Further,the amount of correlation i.e how much positive is less as comnpared to other feattures."
   ]
  },
  {
   "cell_type": "code",
   "execution_count": 39,
   "metadata": {},
   "outputs": [
    {
     "data": {
      "text/plain": [
       "1"
      ]
     },
     "execution_count": 39,
     "metadata": {},
     "output_type": "execute_result"
    }
   ],
   "source": [
    "df[df['radio']==0]['radio'].count()"
   ]
  },
  {
   "cell_type": "code",
   "execution_count": 41,
   "metadata": {},
   "outputs": [
    {
     "data": {
      "text/html": [
       "<div>\n",
       "<style scoped>\n",
       "    .dataframe tbody tr th:only-of-type {\n",
       "        vertical-align: middle;\n",
       "    }\n",
       "\n",
       "    .dataframe tbody tr th {\n",
       "        vertical-align: top;\n",
       "    }\n",
       "\n",
       "    .dataframe thead th {\n",
       "        text-align: right;\n",
       "    }\n",
       "</style>\n",
       "<table border=\"1\" class=\"dataframe\">\n",
       "  <thead>\n",
       "    <tr style=\"text-align: right;\">\n",
       "      <th>sales</th>\n",
       "      <th>1.6</th>\n",
       "      <th>3.2</th>\n",
       "      <th>4.8</th>\n",
       "      <th>5.3</th>\n",
       "      <th>5.5</th>\n",
       "      <th>5.6</th>\n",
       "      <th>5.7</th>\n",
       "      <th>5.9</th>\n",
       "      <th>6.6</th>\n",
       "      <th>6.7</th>\n",
       "      <th>...</th>\n",
       "      <th>23.7</th>\n",
       "      <th>23.8</th>\n",
       "      <th>24.2</th>\n",
       "      <th>24.4</th>\n",
       "      <th>24.7</th>\n",
       "      <th>25.4</th>\n",
       "      <th>25.5</th>\n",
       "      <th>26.2</th>\n",
       "      <th>27.0</th>\n",
       "      <th>All</th>\n",
       "    </tr>\n",
       "    <tr>\n",
       "      <th>TV</th>\n",
       "      <th></th>\n",
       "      <th></th>\n",
       "      <th></th>\n",
       "      <th></th>\n",
       "      <th></th>\n",
       "      <th></th>\n",
       "      <th></th>\n",
       "      <th></th>\n",
       "      <th></th>\n",
       "      <th></th>\n",
       "      <th></th>\n",
       "      <th></th>\n",
       "      <th></th>\n",
       "      <th></th>\n",
       "      <th></th>\n",
       "      <th></th>\n",
       "      <th></th>\n",
       "      <th></th>\n",
       "      <th></th>\n",
       "      <th></th>\n",
       "      <th></th>\n",
       "    </tr>\n",
       "  </thead>\n",
       "  <tbody>\n",
       "    <tr>\n",
       "      <th>0.7</th>\n",
       "      <td>1</td>\n",
       "      <td>0</td>\n",
       "      <td>0</td>\n",
       "      <td>0</td>\n",
       "      <td>0</td>\n",
       "      <td>0</td>\n",
       "      <td>0</td>\n",
       "      <td>0</td>\n",
       "      <td>0</td>\n",
       "      <td>0</td>\n",
       "      <td>...</td>\n",
       "      <td>0</td>\n",
       "      <td>0</td>\n",
       "      <td>0</td>\n",
       "      <td>0</td>\n",
       "      <td>0</td>\n",
       "      <td>0</td>\n",
       "      <td>0</td>\n",
       "      <td>0</td>\n",
       "      <td>0</td>\n",
       "      <td>1</td>\n",
       "    </tr>\n",
       "    <tr>\n",
       "      <th>4.1</th>\n",
       "      <td>0</td>\n",
       "      <td>1</td>\n",
       "      <td>0</td>\n",
       "      <td>0</td>\n",
       "      <td>0</td>\n",
       "      <td>0</td>\n",
       "      <td>0</td>\n",
       "      <td>0</td>\n",
       "      <td>0</td>\n",
       "      <td>0</td>\n",
       "      <td>...</td>\n",
       "      <td>0</td>\n",
       "      <td>0</td>\n",
       "      <td>0</td>\n",
       "      <td>0</td>\n",
       "      <td>0</td>\n",
       "      <td>0</td>\n",
       "      <td>0</td>\n",
       "      <td>0</td>\n",
       "      <td>0</td>\n",
       "      <td>1</td>\n",
       "    </tr>\n",
       "    <tr>\n",
       "      <th>5.4</th>\n",
       "      <td>0</td>\n",
       "      <td>0</td>\n",
       "      <td>0</td>\n",
       "      <td>1</td>\n",
       "      <td>0</td>\n",
       "      <td>0</td>\n",
       "      <td>0</td>\n",
       "      <td>0</td>\n",
       "      <td>0</td>\n",
       "      <td>0</td>\n",
       "      <td>...</td>\n",
       "      <td>0</td>\n",
       "      <td>0</td>\n",
       "      <td>0</td>\n",
       "      <td>0</td>\n",
       "      <td>0</td>\n",
       "      <td>0</td>\n",
       "      <td>0</td>\n",
       "      <td>0</td>\n",
       "      <td>0</td>\n",
       "      <td>1</td>\n",
       "    </tr>\n",
       "    <tr>\n",
       "      <th>7.3</th>\n",
       "      <td>0</td>\n",
       "      <td>0</td>\n",
       "      <td>0</td>\n",
       "      <td>0</td>\n",
       "      <td>1</td>\n",
       "      <td>0</td>\n",
       "      <td>0</td>\n",
       "      <td>0</td>\n",
       "      <td>0</td>\n",
       "      <td>0</td>\n",
       "      <td>...</td>\n",
       "      <td>0</td>\n",
       "      <td>0</td>\n",
       "      <td>0</td>\n",
       "      <td>0</td>\n",
       "      <td>0</td>\n",
       "      <td>0</td>\n",
       "      <td>0</td>\n",
       "      <td>0</td>\n",
       "      <td>0</td>\n",
       "      <td>1</td>\n",
       "    </tr>\n",
       "    <tr>\n",
       "      <th>7.8</th>\n",
       "      <td>0</td>\n",
       "      <td>0</td>\n",
       "      <td>0</td>\n",
       "      <td>0</td>\n",
       "      <td>0</td>\n",
       "      <td>0</td>\n",
       "      <td>0</td>\n",
       "      <td>0</td>\n",
       "      <td>1</td>\n",
       "      <td>0</td>\n",
       "      <td>...</td>\n",
       "      <td>0</td>\n",
       "      <td>0</td>\n",
       "      <td>0</td>\n",
       "      <td>0</td>\n",
       "      <td>0</td>\n",
       "      <td>0</td>\n",
       "      <td>0</td>\n",
       "      <td>0</td>\n",
       "      <td>0</td>\n",
       "      <td>1</td>\n",
       "    </tr>\n",
       "    <tr>\n",
       "      <th>...</th>\n",
       "      <td>...</td>\n",
       "      <td>...</td>\n",
       "      <td>...</td>\n",
       "      <td>...</td>\n",
       "      <td>...</td>\n",
       "      <td>...</td>\n",
       "      <td>...</td>\n",
       "      <td>...</td>\n",
       "      <td>...</td>\n",
       "      <td>...</td>\n",
       "      <td>...</td>\n",
       "      <td>...</td>\n",
       "      <td>...</td>\n",
       "      <td>...</td>\n",
       "      <td>...</td>\n",
       "      <td>...</td>\n",
       "      <td>...</td>\n",
       "      <td>...</td>\n",
       "      <td>...</td>\n",
       "      <td>...</td>\n",
       "      <td>...</td>\n",
       "    </tr>\n",
       "    <tr>\n",
       "      <th>290.7</th>\n",
       "      <td>0</td>\n",
       "      <td>0</td>\n",
       "      <td>0</td>\n",
       "      <td>0</td>\n",
       "      <td>0</td>\n",
       "      <td>0</td>\n",
       "      <td>0</td>\n",
       "      <td>0</td>\n",
       "      <td>0</td>\n",
       "      <td>0</td>\n",
       "      <td>...</td>\n",
       "      <td>0</td>\n",
       "      <td>0</td>\n",
       "      <td>0</td>\n",
       "      <td>0</td>\n",
       "      <td>0</td>\n",
       "      <td>0</td>\n",
       "      <td>0</td>\n",
       "      <td>0</td>\n",
       "      <td>0</td>\n",
       "      <td>1</td>\n",
       "    </tr>\n",
       "    <tr>\n",
       "      <th>292.9</th>\n",
       "      <td>0</td>\n",
       "      <td>0</td>\n",
       "      <td>0</td>\n",
       "      <td>0</td>\n",
       "      <td>0</td>\n",
       "      <td>0</td>\n",
       "      <td>0</td>\n",
       "      <td>0</td>\n",
       "      <td>0</td>\n",
       "      <td>0</td>\n",
       "      <td>...</td>\n",
       "      <td>0</td>\n",
       "      <td>0</td>\n",
       "      <td>0</td>\n",
       "      <td>0</td>\n",
       "      <td>0</td>\n",
       "      <td>0</td>\n",
       "      <td>0</td>\n",
       "      <td>0</td>\n",
       "      <td>0</td>\n",
       "      <td>1</td>\n",
       "    </tr>\n",
       "    <tr>\n",
       "      <th>293.6</th>\n",
       "      <td>0</td>\n",
       "      <td>0</td>\n",
       "      <td>0</td>\n",
       "      <td>0</td>\n",
       "      <td>0</td>\n",
       "      <td>0</td>\n",
       "      <td>0</td>\n",
       "      <td>0</td>\n",
       "      <td>0</td>\n",
       "      <td>0</td>\n",
       "      <td>...</td>\n",
       "      <td>0</td>\n",
       "      <td>0</td>\n",
       "      <td>0</td>\n",
       "      <td>0</td>\n",
       "      <td>0</td>\n",
       "      <td>0</td>\n",
       "      <td>0</td>\n",
       "      <td>0</td>\n",
       "      <td>0</td>\n",
       "      <td>1</td>\n",
       "    </tr>\n",
       "    <tr>\n",
       "      <th>296.4</th>\n",
       "      <td>0</td>\n",
       "      <td>0</td>\n",
       "      <td>0</td>\n",
       "      <td>0</td>\n",
       "      <td>0</td>\n",
       "      <td>0</td>\n",
       "      <td>0</td>\n",
       "      <td>0</td>\n",
       "      <td>0</td>\n",
       "      <td>0</td>\n",
       "      <td>...</td>\n",
       "      <td>0</td>\n",
       "      <td>1</td>\n",
       "      <td>0</td>\n",
       "      <td>0</td>\n",
       "      <td>0</td>\n",
       "      <td>0</td>\n",
       "      <td>0</td>\n",
       "      <td>0</td>\n",
       "      <td>0</td>\n",
       "      <td>1</td>\n",
       "    </tr>\n",
       "    <tr>\n",
       "      <th>All</th>\n",
       "      <td>1</td>\n",
       "      <td>1</td>\n",
       "      <td>1</td>\n",
       "      <td>2</td>\n",
       "      <td>1</td>\n",
       "      <td>1</td>\n",
       "      <td>1</td>\n",
       "      <td>1</td>\n",
       "      <td>2</td>\n",
       "      <td>1</td>\n",
       "      <td>...</td>\n",
       "      <td>1</td>\n",
       "      <td>2</td>\n",
       "      <td>1</td>\n",
       "      <td>1</td>\n",
       "      <td>1</td>\n",
       "      <td>3</td>\n",
       "      <td>1</td>\n",
       "      <td>1</td>\n",
       "      <td>1</td>\n",
       "      <td>200</td>\n",
       "    </tr>\n",
       "  </tbody>\n",
       "</table>\n",
       "<p>191 rows × 122 columns</p>\n",
       "</div>"
      ],
      "text/plain": [
       "sales  1.6  3.2  4.8  5.3  5.5  5.6  5.7  5.9  6.6  6.7  ...  23.7  23.8  \\\n",
       "TV                                                       ...               \n",
       "0.7      1    0    0    0    0    0    0    0    0    0  ...     0     0   \n",
       "4.1      0    1    0    0    0    0    0    0    0    0  ...     0     0   \n",
       "5.4      0    0    0    1    0    0    0    0    0    0  ...     0     0   \n",
       "7.3      0    0    0    0    1    0    0    0    0    0  ...     0     0   \n",
       "7.8      0    0    0    0    0    0    0    0    1    0  ...     0     0   \n",
       "...    ...  ...  ...  ...  ...  ...  ...  ...  ...  ...  ...   ...   ...   \n",
       "290.7    0    0    0    0    0    0    0    0    0    0  ...     0     0   \n",
       "292.9    0    0    0    0    0    0    0    0    0    0  ...     0     0   \n",
       "293.6    0    0    0    0    0    0    0    0    0    0  ...     0     0   \n",
       "296.4    0    0    0    0    0    0    0    0    0    0  ...     0     1   \n",
       "All      1    1    1    2    1    1    1    1    2    1  ...     1     2   \n",
       "\n",
       "sales  24.2  24.4  24.7  25.4  25.5  26.2  27.0  All  \n",
       "TV                                                    \n",
       "0.7       0     0     0     0     0     0     0    1  \n",
       "4.1       0     0     0     0     0     0     0    1  \n",
       "5.4       0     0     0     0     0     0     0    1  \n",
       "7.3       0     0     0     0     0     0     0    1  \n",
       "7.8       0     0     0     0     0     0     0    1  \n",
       "...     ...   ...   ...   ...   ...   ...   ...  ...  \n",
       "290.7     0     0     0     0     0     0     0    1  \n",
       "292.9     0     0     0     0     0     0     0    1  \n",
       "293.6     0     0     0     0     0     0     0    1  \n",
       "296.4     0     0     0     0     0     0     0    1  \n",
       "All       1     1     1     3     1     1     1  200  \n",
       "\n",
       "[191 rows x 122 columns]"
      ]
     },
     "execution_count": 41,
     "metadata": {},
     "output_type": "execute_result"
    }
   ],
   "source": [
    "pd.crosstab(df['TV'],df['sales'],margins=True)"
   ]
  },
  {
   "cell_type": "markdown",
   "metadata": {},
   "source": [
    "From the above crosstab it is confirmed that as the amount spent in advertisement on TV increases sales increases."
   ]
  },
  {
   "cell_type": "code",
   "execution_count": 47,
   "metadata": {},
   "outputs": [
    {
     "data": {
      "text/html": [
       "<div>\n",
       "<style scoped>\n",
       "    .dataframe tbody tr th:only-of-type {\n",
       "        vertical-align: middle;\n",
       "    }\n",
       "\n",
       "    .dataframe tbody tr th {\n",
       "        vertical-align: top;\n",
       "    }\n",
       "\n",
       "    .dataframe thead th {\n",
       "        text-align: right;\n",
       "    }\n",
       "</style>\n",
       "<table border=\"1\" class=\"dataframe\">\n",
       "  <thead>\n",
       "    <tr style=\"text-align: right;\">\n",
       "      <th>sales</th>\n",
       "      <th>1.6</th>\n",
       "      <th>3.2</th>\n",
       "      <th>4.8</th>\n",
       "      <th>5.3</th>\n",
       "      <th>5.5</th>\n",
       "      <th>5.6</th>\n",
       "      <th>5.7</th>\n",
       "      <th>5.9</th>\n",
       "      <th>6.6</th>\n",
       "      <th>6.7</th>\n",
       "      <th>...</th>\n",
       "      <th>23.7</th>\n",
       "      <th>23.8</th>\n",
       "      <th>24.2</th>\n",
       "      <th>24.4</th>\n",
       "      <th>24.7</th>\n",
       "      <th>25.4</th>\n",
       "      <th>25.5</th>\n",
       "      <th>26.2</th>\n",
       "      <th>27.0</th>\n",
       "      <th>All</th>\n",
       "    </tr>\n",
       "    <tr>\n",
       "      <th>radio</th>\n",
       "      <th></th>\n",
       "      <th></th>\n",
       "      <th></th>\n",
       "      <th></th>\n",
       "      <th></th>\n",
       "      <th></th>\n",
       "      <th></th>\n",
       "      <th></th>\n",
       "      <th></th>\n",
       "      <th></th>\n",
       "      <th></th>\n",
       "      <th></th>\n",
       "      <th></th>\n",
       "      <th></th>\n",
       "      <th></th>\n",
       "      <th></th>\n",
       "      <th></th>\n",
       "      <th></th>\n",
       "      <th></th>\n",
       "      <th></th>\n",
       "      <th></th>\n",
       "    </tr>\n",
       "  </thead>\n",
       "  <tbody>\n",
       "    <tr>\n",
       "      <th>0.0</th>\n",
       "      <td>0</td>\n",
       "      <td>0</td>\n",
       "      <td>0</td>\n",
       "      <td>0</td>\n",
       "      <td>0</td>\n",
       "      <td>0</td>\n",
       "      <td>0</td>\n",
       "      <td>0</td>\n",
       "      <td>0</td>\n",
       "      <td>0</td>\n",
       "      <td>...</td>\n",
       "      <td>0</td>\n",
       "      <td>0</td>\n",
       "      <td>0</td>\n",
       "      <td>0</td>\n",
       "      <td>0</td>\n",
       "      <td>0</td>\n",
       "      <td>0</td>\n",
       "      <td>0</td>\n",
       "      <td>0</td>\n",
       "      <td>1</td>\n",
       "    </tr>\n",
       "    <tr>\n",
       "      <th>0.3</th>\n",
       "      <td>0</td>\n",
       "      <td>0</td>\n",
       "      <td>0</td>\n",
       "      <td>0</td>\n",
       "      <td>0</td>\n",
       "      <td>0</td>\n",
       "      <td>0</td>\n",
       "      <td>0</td>\n",
       "      <td>0</td>\n",
       "      <td>0</td>\n",
       "      <td>...</td>\n",
       "      <td>0</td>\n",
       "      <td>0</td>\n",
       "      <td>0</td>\n",
       "      <td>0</td>\n",
       "      <td>0</td>\n",
       "      <td>0</td>\n",
       "      <td>0</td>\n",
       "      <td>0</td>\n",
       "      <td>0</td>\n",
       "      <td>1</td>\n",
       "    </tr>\n",
       "    <tr>\n",
       "      <th>0.4</th>\n",
       "      <td>0</td>\n",
       "      <td>0</td>\n",
       "      <td>0</td>\n",
       "      <td>1</td>\n",
       "      <td>0</td>\n",
       "      <td>0</td>\n",
       "      <td>0</td>\n",
       "      <td>0</td>\n",
       "      <td>0</td>\n",
       "      <td>0</td>\n",
       "      <td>...</td>\n",
       "      <td>0</td>\n",
       "      <td>0</td>\n",
       "      <td>0</td>\n",
       "      <td>0</td>\n",
       "      <td>0</td>\n",
       "      <td>0</td>\n",
       "      <td>0</td>\n",
       "      <td>0</td>\n",
       "      <td>0</td>\n",
       "      <td>1</td>\n",
       "    </tr>\n",
       "    <tr>\n",
       "      <th>0.8</th>\n",
       "      <td>0</td>\n",
       "      <td>0</td>\n",
       "      <td>0</td>\n",
       "      <td>0</td>\n",
       "      <td>0</td>\n",
       "      <td>0</td>\n",
       "      <td>0</td>\n",
       "      <td>0</td>\n",
       "      <td>0</td>\n",
       "      <td>0</td>\n",
       "      <td>...</td>\n",
       "      <td>0</td>\n",
       "      <td>0</td>\n",
       "      <td>0</td>\n",
       "      <td>0</td>\n",
       "      <td>0</td>\n",
       "      <td>0</td>\n",
       "      <td>0</td>\n",
       "      <td>0</td>\n",
       "      <td>0</td>\n",
       "      <td>1</td>\n",
       "    </tr>\n",
       "    <tr>\n",
       "      <th>1.3</th>\n",
       "      <td>0</td>\n",
       "      <td>0</td>\n",
       "      <td>0</td>\n",
       "      <td>0</td>\n",
       "      <td>0</td>\n",
       "      <td>0</td>\n",
       "      <td>0</td>\n",
       "      <td>0</td>\n",
       "      <td>0</td>\n",
       "      <td>0</td>\n",
       "      <td>...</td>\n",
       "      <td>0</td>\n",
       "      <td>0</td>\n",
       "      <td>0</td>\n",
       "      <td>0</td>\n",
       "      <td>0</td>\n",
       "      <td>0</td>\n",
       "      <td>0</td>\n",
       "      <td>0</td>\n",
       "      <td>0</td>\n",
       "      <td>1</td>\n",
       "    </tr>\n",
       "    <tr>\n",
       "      <th>...</th>\n",
       "      <td>...</td>\n",
       "      <td>...</td>\n",
       "      <td>...</td>\n",
       "      <td>...</td>\n",
       "      <td>...</td>\n",
       "      <td>...</td>\n",
       "      <td>...</td>\n",
       "      <td>...</td>\n",
       "      <td>...</td>\n",
       "      <td>...</td>\n",
       "      <td>...</td>\n",
       "      <td>...</td>\n",
       "      <td>...</td>\n",
       "      <td>...</td>\n",
       "      <td>...</td>\n",
       "      <td>...</td>\n",
       "      <td>...</td>\n",
       "      <td>...</td>\n",
       "      <td>...</td>\n",
       "      <td>...</td>\n",
       "      <td>...</td>\n",
       "    </tr>\n",
       "    <tr>\n",
       "      <th>48.9</th>\n",
       "      <td>0</td>\n",
       "      <td>0</td>\n",
       "      <td>0</td>\n",
       "      <td>0</td>\n",
       "      <td>0</td>\n",
       "      <td>0</td>\n",
       "      <td>0</td>\n",
       "      <td>0</td>\n",
       "      <td>0</td>\n",
       "      <td>0</td>\n",
       "      <td>...</td>\n",
       "      <td>0</td>\n",
       "      <td>0</td>\n",
       "      <td>0</td>\n",
       "      <td>0</td>\n",
       "      <td>0</td>\n",
       "      <td>0</td>\n",
       "      <td>0</td>\n",
       "      <td>0</td>\n",
       "      <td>1</td>\n",
       "      <td>2</td>\n",
       "    </tr>\n",
       "    <tr>\n",
       "      <th>49.0</th>\n",
       "      <td>0</td>\n",
       "      <td>0</td>\n",
       "      <td>0</td>\n",
       "      <td>0</td>\n",
       "      <td>0</td>\n",
       "      <td>0</td>\n",
       "      <td>0</td>\n",
       "      <td>0</td>\n",
       "      <td>0</td>\n",
       "      <td>0</td>\n",
       "      <td>...</td>\n",
       "      <td>0</td>\n",
       "      <td>0</td>\n",
       "      <td>0</td>\n",
       "      <td>0</td>\n",
       "      <td>1</td>\n",
       "      <td>1</td>\n",
       "      <td>0</td>\n",
       "      <td>0</td>\n",
       "      <td>0</td>\n",
       "      <td>2</td>\n",
       "    </tr>\n",
       "    <tr>\n",
       "      <th>49.4</th>\n",
       "      <td>0</td>\n",
       "      <td>0</td>\n",
       "      <td>0</td>\n",
       "      <td>0</td>\n",
       "      <td>0</td>\n",
       "      <td>0</td>\n",
       "      <td>0</td>\n",
       "      <td>0</td>\n",
       "      <td>0</td>\n",
       "      <td>0</td>\n",
       "      <td>...</td>\n",
       "      <td>1</td>\n",
       "      <td>0</td>\n",
       "      <td>0</td>\n",
       "      <td>0</td>\n",
       "      <td>0</td>\n",
       "      <td>0</td>\n",
       "      <td>0</td>\n",
       "      <td>0</td>\n",
       "      <td>0</td>\n",
       "      <td>2</td>\n",
       "    </tr>\n",
       "    <tr>\n",
       "      <th>49.6</th>\n",
       "      <td>0</td>\n",
       "      <td>0</td>\n",
       "      <td>0</td>\n",
       "      <td>0</td>\n",
       "      <td>0</td>\n",
       "      <td>0</td>\n",
       "      <td>0</td>\n",
       "      <td>0</td>\n",
       "      <td>0</td>\n",
       "      <td>0</td>\n",
       "      <td>...</td>\n",
       "      <td>0</td>\n",
       "      <td>1</td>\n",
       "      <td>0</td>\n",
       "      <td>0</td>\n",
       "      <td>0</td>\n",
       "      <td>0</td>\n",
       "      <td>0</td>\n",
       "      <td>0</td>\n",
       "      <td>0</td>\n",
       "      <td>1</td>\n",
       "    </tr>\n",
       "    <tr>\n",
       "      <th>All</th>\n",
       "      <td>1</td>\n",
       "      <td>1</td>\n",
       "      <td>1</td>\n",
       "      <td>2</td>\n",
       "      <td>1</td>\n",
       "      <td>1</td>\n",
       "      <td>1</td>\n",
       "      <td>1</td>\n",
       "      <td>2</td>\n",
       "      <td>1</td>\n",
       "      <td>...</td>\n",
       "      <td>1</td>\n",
       "      <td>2</td>\n",
       "      <td>1</td>\n",
       "      <td>1</td>\n",
       "      <td>1</td>\n",
       "      <td>3</td>\n",
       "      <td>1</td>\n",
       "      <td>1</td>\n",
       "      <td>1</td>\n",
       "      <td>200</td>\n",
       "    </tr>\n",
       "  </tbody>\n",
       "</table>\n",
       "<p>168 rows × 122 columns</p>\n",
       "</div>"
      ],
      "text/plain": [
       "sales  1.6  3.2  4.8  5.3  5.5  5.6  5.7  5.9  6.6  6.7  ...  23.7  23.8  \\\n",
       "radio                                                    ...               \n",
       "0.0      0    0    0    0    0    0    0    0    0    0  ...     0     0   \n",
       "0.3      0    0    0    0    0    0    0    0    0    0  ...     0     0   \n",
       "0.4      0    0    0    1    0    0    0    0    0    0  ...     0     0   \n",
       "0.8      0    0    0    0    0    0    0    0    0    0  ...     0     0   \n",
       "1.3      0    0    0    0    0    0    0    0    0    0  ...     0     0   \n",
       "...    ...  ...  ...  ...  ...  ...  ...  ...  ...  ...  ...   ...   ...   \n",
       "48.9     0    0    0    0    0    0    0    0    0    0  ...     0     0   \n",
       "49.0     0    0    0    0    0    0    0    0    0    0  ...     0     0   \n",
       "49.4     0    0    0    0    0    0    0    0    0    0  ...     1     0   \n",
       "49.6     0    0    0    0    0    0    0    0    0    0  ...     0     1   \n",
       "All      1    1    1    2    1    1    1    1    2    1  ...     1     2   \n",
       "\n",
       "sales  24.2  24.4  24.7  25.4  25.5  26.2  27.0  All  \n",
       "radio                                                 \n",
       "0.0       0     0     0     0     0     0     0    1  \n",
       "0.3       0     0     0     0     0     0     0    1  \n",
       "0.4       0     0     0     0     0     0     0    1  \n",
       "0.8       0     0     0     0     0     0     0    1  \n",
       "1.3       0     0     0     0     0     0     0    1  \n",
       "...     ...   ...   ...   ...   ...   ...   ...  ...  \n",
       "48.9      0     0     0     0     0     0     1    2  \n",
       "49.0      0     0     1     1     0     0     0    2  \n",
       "49.4      0     0     0     0     0     0     0    2  \n",
       "49.6      0     0     0     0     0     0     0    1  \n",
       "All       1     1     1     3     1     1     1  200  \n",
       "\n",
       "[168 rows x 122 columns]"
      ]
     },
     "execution_count": 47,
     "metadata": {},
     "output_type": "execute_result"
    }
   ],
   "source": [
    "pd.crosstab(df['radio'],df['sales'],margins=True)"
   ]
  },
  {
   "cell_type": "markdown",
   "metadata": {},
   "source": [
    "From the above crosstab it is confirmed that as the amount spent in advertisement on radio increases sales increases in most of the cases and drops down in few of the cases."
   ]
  },
  {
   "cell_type": "code",
   "execution_count": 49,
   "metadata": {},
   "outputs": [
    {
     "data": {
      "text/html": [
       "<div>\n",
       "<style scoped>\n",
       "    .dataframe tbody tr th:only-of-type {\n",
       "        vertical-align: middle;\n",
       "    }\n",
       "\n",
       "    .dataframe tbody tr th {\n",
       "        vertical-align: top;\n",
       "    }\n",
       "\n",
       "    .dataframe thead th {\n",
       "        text-align: right;\n",
       "    }\n",
       "</style>\n",
       "<table border=\"1\" class=\"dataframe\">\n",
       "  <thead>\n",
       "    <tr style=\"text-align: right;\">\n",
       "      <th>sales</th>\n",
       "      <th>1.6</th>\n",
       "      <th>3.2</th>\n",
       "      <th>4.8</th>\n",
       "      <th>5.3</th>\n",
       "      <th>5.5</th>\n",
       "      <th>5.6</th>\n",
       "      <th>5.7</th>\n",
       "      <th>5.9</th>\n",
       "      <th>6.6</th>\n",
       "      <th>6.7</th>\n",
       "      <th>...</th>\n",
       "      <th>23.7</th>\n",
       "      <th>23.8</th>\n",
       "      <th>24.2</th>\n",
       "      <th>24.4</th>\n",
       "      <th>24.7</th>\n",
       "      <th>25.4</th>\n",
       "      <th>25.5</th>\n",
       "      <th>26.2</th>\n",
       "      <th>27.0</th>\n",
       "      <th>All</th>\n",
       "    </tr>\n",
       "    <tr>\n",
       "      <th>newspaper</th>\n",
       "      <th></th>\n",
       "      <th></th>\n",
       "      <th></th>\n",
       "      <th></th>\n",
       "      <th></th>\n",
       "      <th></th>\n",
       "      <th></th>\n",
       "      <th></th>\n",
       "      <th></th>\n",
       "      <th></th>\n",
       "      <th></th>\n",
       "      <th></th>\n",
       "      <th></th>\n",
       "      <th></th>\n",
       "      <th></th>\n",
       "      <th></th>\n",
       "      <th></th>\n",
       "      <th></th>\n",
       "      <th></th>\n",
       "      <th></th>\n",
       "      <th></th>\n",
       "    </tr>\n",
       "  </thead>\n",
       "  <tbody>\n",
       "    <tr>\n",
       "      <th>0.3</th>\n",
       "      <td>0</td>\n",
       "      <td>0</td>\n",
       "      <td>0</td>\n",
       "      <td>0</td>\n",
       "      <td>0</td>\n",
       "      <td>0</td>\n",
       "      <td>0</td>\n",
       "      <td>0</td>\n",
       "      <td>0</td>\n",
       "      <td>0</td>\n",
       "      <td>...</td>\n",
       "      <td>0</td>\n",
       "      <td>0</td>\n",
       "      <td>0</td>\n",
       "      <td>0</td>\n",
       "      <td>0</td>\n",
       "      <td>0</td>\n",
       "      <td>0</td>\n",
       "      <td>0</td>\n",
       "      <td>0</td>\n",
       "      <td>1</td>\n",
       "    </tr>\n",
       "    <tr>\n",
       "      <th>0.9</th>\n",
       "      <td>0</td>\n",
       "      <td>0</td>\n",
       "      <td>0</td>\n",
       "      <td>0</td>\n",
       "      <td>0</td>\n",
       "      <td>0</td>\n",
       "      <td>0</td>\n",
       "      <td>0</td>\n",
       "      <td>0</td>\n",
       "      <td>0</td>\n",
       "      <td>...</td>\n",
       "      <td>0</td>\n",
       "      <td>0</td>\n",
       "      <td>0</td>\n",
       "      <td>0</td>\n",
       "      <td>0</td>\n",
       "      <td>0</td>\n",
       "      <td>0</td>\n",
       "      <td>0</td>\n",
       "      <td>0</td>\n",
       "      <td>1</td>\n",
       "    </tr>\n",
       "    <tr>\n",
       "      <th>1.0</th>\n",
       "      <td>0</td>\n",
       "      <td>0</td>\n",
       "      <td>1</td>\n",
       "      <td>0</td>\n",
       "      <td>0</td>\n",
       "      <td>0</td>\n",
       "      <td>0</td>\n",
       "      <td>0</td>\n",
       "      <td>0</td>\n",
       "      <td>0</td>\n",
       "      <td>...</td>\n",
       "      <td>0</td>\n",
       "      <td>0</td>\n",
       "      <td>0</td>\n",
       "      <td>0</td>\n",
       "      <td>0</td>\n",
       "      <td>0</td>\n",
       "      <td>0</td>\n",
       "      <td>0</td>\n",
       "      <td>0</td>\n",
       "      <td>1</td>\n",
       "    </tr>\n",
       "    <tr>\n",
       "      <th>1.7</th>\n",
       "      <td>0</td>\n",
       "      <td>0</td>\n",
       "      <td>0</td>\n",
       "      <td>0</td>\n",
       "      <td>0</td>\n",
       "      <td>0</td>\n",
       "      <td>0</td>\n",
       "      <td>0</td>\n",
       "      <td>0</td>\n",
       "      <td>0</td>\n",
       "      <td>...</td>\n",
       "      <td>0</td>\n",
       "      <td>0</td>\n",
       "      <td>0</td>\n",
       "      <td>0</td>\n",
       "      <td>0</td>\n",
       "      <td>0</td>\n",
       "      <td>0</td>\n",
       "      <td>0</td>\n",
       "      <td>0</td>\n",
       "      <td>1</td>\n",
       "    </tr>\n",
       "    <tr>\n",
       "      <th>1.8</th>\n",
       "      <td>0</td>\n",
       "      <td>0</td>\n",
       "      <td>0</td>\n",
       "      <td>0</td>\n",
       "      <td>0</td>\n",
       "      <td>0</td>\n",
       "      <td>0</td>\n",
       "      <td>0</td>\n",
       "      <td>0</td>\n",
       "      <td>0</td>\n",
       "      <td>...</td>\n",
       "      <td>0</td>\n",
       "      <td>0</td>\n",
       "      <td>0</td>\n",
       "      <td>0</td>\n",
       "      <td>0</td>\n",
       "      <td>0</td>\n",
       "      <td>0</td>\n",
       "      <td>0</td>\n",
       "      <td>0</td>\n",
       "      <td>1</td>\n",
       "    </tr>\n",
       "    <tr>\n",
       "      <th>...</th>\n",
       "      <td>...</td>\n",
       "      <td>...</td>\n",
       "      <td>...</td>\n",
       "      <td>...</td>\n",
       "      <td>...</td>\n",
       "      <td>...</td>\n",
       "      <td>...</td>\n",
       "      <td>...</td>\n",
       "      <td>...</td>\n",
       "      <td>...</td>\n",
       "      <td>...</td>\n",
       "      <td>...</td>\n",
       "      <td>...</td>\n",
       "      <td>...</td>\n",
       "      <td>...</td>\n",
       "      <td>...</td>\n",
       "      <td>...</td>\n",
       "      <td>...</td>\n",
       "      <td>...</td>\n",
       "      <td>...</td>\n",
       "      <td>...</td>\n",
       "    </tr>\n",
       "    <tr>\n",
       "      <th>84.8</th>\n",
       "      <td>0</td>\n",
       "      <td>0</td>\n",
       "      <td>0</td>\n",
       "      <td>0</td>\n",
       "      <td>0</td>\n",
       "      <td>0</td>\n",
       "      <td>0</td>\n",
       "      <td>0</td>\n",
       "      <td>0</td>\n",
       "      <td>0</td>\n",
       "      <td>...</td>\n",
       "      <td>0</td>\n",
       "      <td>0</td>\n",
       "      <td>0</td>\n",
       "      <td>0</td>\n",
       "      <td>0</td>\n",
       "      <td>0</td>\n",
       "      <td>0</td>\n",
       "      <td>0</td>\n",
       "      <td>0</td>\n",
       "      <td>1</td>\n",
       "    </tr>\n",
       "    <tr>\n",
       "      <th>89.4</th>\n",
       "      <td>0</td>\n",
       "      <td>0</td>\n",
       "      <td>0</td>\n",
       "      <td>0</td>\n",
       "      <td>0</td>\n",
       "      <td>0</td>\n",
       "      <td>0</td>\n",
       "      <td>0</td>\n",
       "      <td>0</td>\n",
       "      <td>0</td>\n",
       "      <td>...</td>\n",
       "      <td>0</td>\n",
       "      <td>0</td>\n",
       "      <td>0</td>\n",
       "      <td>0</td>\n",
       "      <td>0</td>\n",
       "      <td>0</td>\n",
       "      <td>0</td>\n",
       "      <td>0</td>\n",
       "      <td>0</td>\n",
       "      <td>1</td>\n",
       "    </tr>\n",
       "    <tr>\n",
       "      <th>100.9</th>\n",
       "      <td>0</td>\n",
       "      <td>0</td>\n",
       "      <td>0</td>\n",
       "      <td>0</td>\n",
       "      <td>0</td>\n",
       "      <td>0</td>\n",
       "      <td>0</td>\n",
       "      <td>0</td>\n",
       "      <td>0</td>\n",
       "      <td>0</td>\n",
       "      <td>...</td>\n",
       "      <td>0</td>\n",
       "      <td>1</td>\n",
       "      <td>0</td>\n",
       "      <td>0</td>\n",
       "      <td>0</td>\n",
       "      <td>0</td>\n",
       "      <td>0</td>\n",
       "      <td>0</td>\n",
       "      <td>0</td>\n",
       "      <td>1</td>\n",
       "    </tr>\n",
       "    <tr>\n",
       "      <th>114.0</th>\n",
       "      <td>0</td>\n",
       "      <td>0</td>\n",
       "      <td>0</td>\n",
       "      <td>0</td>\n",
       "      <td>0</td>\n",
       "      <td>0</td>\n",
       "      <td>0</td>\n",
       "      <td>0</td>\n",
       "      <td>0</td>\n",
       "      <td>0</td>\n",
       "      <td>...</td>\n",
       "      <td>0</td>\n",
       "      <td>0</td>\n",
       "      <td>0</td>\n",
       "      <td>0</td>\n",
       "      <td>0</td>\n",
       "      <td>0</td>\n",
       "      <td>0</td>\n",
       "      <td>0</td>\n",
       "      <td>0</td>\n",
       "      <td>1</td>\n",
       "    </tr>\n",
       "    <tr>\n",
       "      <th>All</th>\n",
       "      <td>1</td>\n",
       "      <td>1</td>\n",
       "      <td>1</td>\n",
       "      <td>2</td>\n",
       "      <td>1</td>\n",
       "      <td>1</td>\n",
       "      <td>1</td>\n",
       "      <td>1</td>\n",
       "      <td>2</td>\n",
       "      <td>1</td>\n",
       "      <td>...</td>\n",
       "      <td>1</td>\n",
       "      <td>2</td>\n",
       "      <td>1</td>\n",
       "      <td>1</td>\n",
       "      <td>1</td>\n",
       "      <td>3</td>\n",
       "      <td>1</td>\n",
       "      <td>1</td>\n",
       "      <td>1</td>\n",
       "      <td>200</td>\n",
       "    </tr>\n",
       "  </tbody>\n",
       "</table>\n",
       "<p>173 rows × 122 columns</p>\n",
       "</div>"
      ],
      "text/plain": [
       "sales      1.6  3.2  4.8  5.3  5.5  5.6  5.7  5.9  6.6  6.7  ...  23.7  23.8  \\\n",
       "newspaper                                                    ...               \n",
       "0.3          0    0    0    0    0    0    0    0    0    0  ...     0     0   \n",
       "0.9          0    0    0    0    0    0    0    0    0    0  ...     0     0   \n",
       "1.0          0    0    1    0    0    0    0    0    0    0  ...     0     0   \n",
       "1.7          0    0    0    0    0    0    0    0    0    0  ...     0     0   \n",
       "1.8          0    0    0    0    0    0    0    0    0    0  ...     0     0   \n",
       "...        ...  ...  ...  ...  ...  ...  ...  ...  ...  ...  ...   ...   ...   \n",
       "84.8         0    0    0    0    0    0    0    0    0    0  ...     0     0   \n",
       "89.4         0    0    0    0    0    0    0    0    0    0  ...     0     0   \n",
       "100.9        0    0    0    0    0    0    0    0    0    0  ...     0     1   \n",
       "114.0        0    0    0    0    0    0    0    0    0    0  ...     0     0   \n",
       "All          1    1    1    2    1    1    1    1    2    1  ...     1     2   \n",
       "\n",
       "sales      24.2  24.4  24.7  25.4  25.5  26.2  27.0  All  \n",
       "newspaper                                                 \n",
       "0.3           0     0     0     0     0     0     0    1  \n",
       "0.9           0     0     0     0     0     0     0    1  \n",
       "1.0           0     0     0     0     0     0     0    1  \n",
       "1.7           0     0     0     0     0     0     0    1  \n",
       "1.8           0     0     0     0     0     0     0    1  \n",
       "...         ...   ...   ...   ...   ...   ...   ...  ...  \n",
       "84.8          0     0     0     0     0     0     0    1  \n",
       "89.4          0     0     0     0     0     0     0    1  \n",
       "100.9         0     0     0     0     0     0     0    1  \n",
       "114.0         0     0     0     0     0     0     0    1  \n",
       "All           1     1     1     3     1     1     1  200  \n",
       "\n",
       "[173 rows x 122 columns]"
      ]
     },
     "execution_count": 49,
     "metadata": {},
     "output_type": "execute_result"
    }
   ],
   "source": [
    "pd.crosstab(df['newspaper'],df['sales'],margins=True)"
   ]
  },
  {
   "cell_type": "markdown",
   "metadata": {},
   "source": [
    "From the above crosstab it is confirmed that as the amount spent in advertisement on newspaper increases sales increases in some of the cases and drops down in few of the cases. Further, it can be said that newspaper is having positive correlation with sales but the amount of correlation is less."
   ]
  },
  {
   "cell_type": "code",
   "execution_count": 50,
   "metadata": {},
   "outputs": [
    {
     "data": {
      "text/plain": [
       "<AxesSubplot:>"
      ]
     },
     "execution_count": 50,
     "metadata": {},
     "output_type": "execute_result"
    },
    {
     "data": {
      "image/png": "[encoded data removed]",
      "text/plain": [
       "<Figure size 432x288 with 2 Axes>"
      ]
     },
     "metadata": {
      "needs_background": "light"
     },
     "output_type": "display_data"
    }
   ],
   "source": [
    "sns.heatmap(df.corr(),annot=True)"
   ]
  },
  {
   "cell_type": "markdown",
   "metadata": {},
   "source": [
    "The TV feature is having highest correlation with sales, followed by radio and newspaper."
   ]
  },
  {
   "cell_type": "code",
   "execution_count": 53,
   "metadata": {},
   "outputs": [
    {
     "data": {
      "text/plain": [
       "<seaborn.axisgrid.PairGrid at 0x2734377e820>"
      ]
     },
     "execution_count": 53,
     "metadata": {},
     "output_type": "execute_result"
    },
    {
     "data": {
      "image/png": "[encoded data removed]",
      "text/plain": [
       "<Figure size 720x720 with 20 Axes>"
      ]
     },
     "metadata": {
      "needs_background": "light"
     },
     "output_type": "display_data"
    }
   ],
   "source": [
    "sns.pairplot(df)"
   ]
  },
  {
   "cell_type": "code",
   "execution_count": 54,
   "metadata": {},
   "outputs": [
    {
     "data": {
      "text/plain": [
       "<AxesSubplot:xlabel='radio', ylabel='newspaper'>"
      ]
     },
     "execution_count": 54,
     "metadata": {},
     "output_type": "execute_result"
    },
    {
     "data": {
      "image/png": "[encoded data removed]",
      "text/plain": [
       "<Figure size 432x288 with 1 Axes>"
      ]
     },
     "metadata": {
      "needs_background": "light"
     },
     "output_type": "display_data"
    }
   ],
   "source": [
    "sns.scatterplot(x='radio',y='newspaper',data=df)"
   ]
  },
  {
   "cell_type": "markdown",
   "metadata": {},
   "source": [
    " As the amount spend on TV for adverstisement increases corresponding the amount spent on radio for advertisement increases in some of the cases and drops in some of the cases. Further, there is a linear correlation but the amount of correleation is less which is 0.35"
   ]
  },
  {
   "cell_type": "code",
   "execution_count": 55,
   "metadata": {},
   "outputs": [],
   "source": [
    "Q1=df['newspaper'].quantile(0.25)\n",
    "Q3=df['newspaper'].quantile(0.75)\n",
    "IQR=Q3-Q1\n",
    "upper_boundary=Q3+1.5*IQR"
   ]
  },
  {
   "cell_type": "code",
   "execution_count": 56,
   "metadata": {},
   "outputs": [
    {
     "data": {
      "text/plain": [
       "93.625"
      ]
     },
     "execution_count": 56,
     "metadata": {},
     "output_type": "execute_result"
    }
   ],
   "source": [
    "upper_boundary"
   ]
  },
  {
   "cell_type": "code",
   "execution_count": 57,
   "metadata": {},
   "outputs": [
    {
     "data": {
      "text/plain": [
       "2"
      ]
     },
     "execution_count": 57,
     "metadata": {},
     "output_type": "execute_result"
    }
   ],
   "source": [
    "df[df['newspaper']>93]['newspaper'].count()"
   ]
  },
  {
   "cell_type": "markdown",
   "metadata": {},
   "source": [
    "So there are only 2 records in newspaper feature having values greater than 93 which is the upper_boundary(whisker). Further, as no of outliers are 2 only there is no point in removing them."
   ]
  },
  {
   "cell_type": "code",
   "execution_count": 59,
   "metadata": {},
   "outputs": [
    {
     "data": {
      "text/plain": [
       "TV          -0.069853\n",
       "radio        0.094175\n",
       "newspaper    0.894720\n",
       "sales        0.407571\n",
       "dtype: float64"
      ]
     },
     "execution_count": 59,
     "metadata": {},
     "output_type": "execute_result"
    }
   ],
   "source": [
    "df.skew()"
   ]
  },
  {
   "cell_type": "markdown",
   "metadata": {},
   "source": [
    "The skewness in newspaper feature is greater than 0.5 which needs to be treated."
   ]
  },
  {
   "cell_type": "code",
   "execution_count": 63,
   "metadata": {},
   "outputs": [],
   "source": [
    "df['newspaper']=np.sqrt(df['newspaper'])"
   ]
  },
  {
   "cell_type": "code",
   "execution_count": 64,
   "metadata": {},
   "outputs": [
    {
     "data": {
      "text/plain": [
       "TV          -0.069853\n",
       "radio        0.094175\n",
       "newspaper    0.062388\n",
       "sales        0.407571\n",
       "dtype: float64"
      ]
     },
     "execution_count": 64,
     "metadata": {},
     "output_type": "execute_result"
    }
   ],
   "source": [
    "df.skew()"
   ]
  },
  {
   "cell_type": "markdown",
   "metadata": {},
   "source": [
    "SKewness has been treated."
   ]
  },
  {
   "cell_type": "code",
   "execution_count": 65,
   "metadata": {},
   "outputs": [],
   "source": [
    "x=df.drop('sales',axis=1)\n",
    "y=df['sales']"
   ]
  },
  {
   "cell_type": "code",
   "execution_count": 66,
   "metadata": {},
   "outputs": [],
   "source": [
    "se=StandardScaler()\n",
    "x=se.fit_transform(x)"
   ]
  },
  {
   "cell_type": "code",
   "execution_count": 68,
   "metadata": {},
   "outputs": [
    {
     "name": "stdout",
     "output_type": "stream",
     "text": [
      "1.0489101880153537\n",
      "2.0093566475862894\n",
      "1.4175177768149116\n",
      "The r2 score for random state 1 = 0.891819980203109\n",
      "1.6635363667159546\n",
      "4.557296671235159\n",
      "2.1347825817246964\n",
      "The r2 score for random state 2 = 0.7546733523075342\n",
      "1.2070279505735848\n",
      "2.188635270478886\n",
      "1.4794036874629204\n",
      "The r2 score for random state 3 = 0.9124431849056786\n",
      "1.2145290522229444\n",
      "2.224960690273633\n",
      "1.4916302123092149\n",
      "The r2 score for random state 4 = 0.9082554516311409\n",
      "1.2659401554524634\n",
      "2.54752762091516\n",
      "1.5960976226143437\n",
      "The r2 score for random state 5 = 0.898557314658452\n",
      "1.0579501085787082\n",
      "1.8810350549085009\n",
      "1.3715083138313455\n",
      "The r2 score for random state 6 = 0.9209209716361928\n",
      "1.1486540668784606\n",
      "2.4299113733913273\n",
      "1.5588172995548026\n",
      "The r2 score for random state 7 = 0.909523758386436\n",
      "1.46504151445541\n",
      "4.2901682880582515\n",
      "2.071272142442478\n",
      "The r2 score for random state 8 = 0.8470479164016581\n",
      "1.0702420263505932\n",
      "1.8291194484636262\n",
      "1.3524494254735095\n",
      "The r2 score for random state 9 = 0.9258940580724901\n",
      "1.8879266414704623\n",
      "6.717571594999053\n",
      "2.591827848256719\n",
      "The r2 score for random state 10 = 0.8349474533760167\n",
      "1.6093497367212322\n",
      "5.1326370221200674\n",
      "2.265532392644181\n",
      "The r2 score for random state 11 = 0.8462725411864757\n",
      "1.3200938687532617\n",
      "2.7802292777007795\n",
      "1.6674019544491303\n",
      "The r2 score for random state 12 = 0.9135844117362963\n",
      "1.1767508867259042\n",
      "2.0833927221680204\n",
      "1.4433962457232665\n",
      "The r2 score for random state 13 = 0.9310154847444645\n",
      "1.4655756816279772\n",
      "4.964431628040922\n",
      "2.228100452861343\n",
      "The r2 score for random state 14 = 0.8549229453855781\n",
      "1.426110633029619\n",
      "2.783158132377351\n",
      "1.668279992200755\n",
      "The r2 score for random state 15 = 0.9060904854365273\n",
      "1.1282473742914618\n",
      "1.8760084530158454\n",
      "1.3696745792398446\n",
      "The r2 score for random state 16 = 0.9188628325592408\n",
      "1.3441377914736847\n",
      "4.540481603388884\n",
      "2.1308405861041986\n",
      "The r2 score for random state 17 = 0.8264580299337172\n",
      "1.5323968807891226\n",
      "4.392169310013062\n",
      "2.0957502976292433\n",
      "The r2 score for random state 18 = 0.869739687825844\n",
      "1.3390459055739938\n",
      "2.6914190054715488\n",
      "1.6405544811043455\n",
      "The r2 score for random state 19 = 0.9036516245236977\n",
      "1.427780622779537\n",
      "3.5232597098314686\n",
      "1.8770348184920462\n",
      "The r2 score for random state 20 = 0.9026471042250896\n",
      "1.3456468303294173\n",
      "2.7565295007755903\n",
      "1.6602799465076936\n",
      "The r2 score for random state 21 = 0.9221538017615295\n",
      "1.1799005594843908\n",
      "2.481811003790279\n",
      "1.5753764641476269\n",
      "The r2 score for random state 22 = 0.9177775383797999\n",
      "1.4016274667022572\n",
      "2.8206896663173837\n",
      "1.6794908949790064\n",
      "The r2 score for random state 23 = 0.9101640942475522\n",
      "1.1595644856246465\n",
      "2.288203208305535\n",
      "1.5126808018566027\n",
      "The r2 score for random state 24 = 0.9060803004381353\n",
      "1.3462687823900628\n",
      "3.2527798258913085\n",
      "1.8035464579243055\n",
      "The r2 score for random state 25 = 0.8752791187318748\n",
      "1.0916328513259053\n",
      "2.5128744564237766\n",
      "1.5852048626041293\n",
      "The r2 score for random state 26 = 0.8753132093325617\n",
      "1.15328439054502\n",
      "2.299785103888773\n",
      "1.5165042380055431\n",
      "The r2 score for random state 27 = 0.9055998824449135\n",
      "1.4490554906270285\n",
      "2.991208208541587\n",
      "1.7295109738135768\n",
      "The r2 score for random state 28 = 0.8824196455375337\n",
      "1.346068042462098\n",
      "3.1258920839993385\n",
      "1.7680192544198545\n",
      "The r2 score for random state 29 = 0.9108876295765262\n",
      "1.2624056818383802\n",
      "2.648942500812878\n",
      "1.6275572189059524\n",
      "The r2 score for random state 30 = 0.9050343592155887\n",
      "1.1419848888678295\n",
      "2.120793574400645\n",
      "1.456294466926468\n",
      "The r2 score for random state 31 = 0.9271977386741509\n",
      "1.5711013624628483\n",
      "4.7380366854349045\n",
      "2.1767031688852074\n",
      "The r2 score for random state 32 = 0.7771059427557685\n",
      "1.0970238468957347\n",
      "2.3378092845925673\n",
      "1.5289896286739708\n",
      "The r2 score for random state 33 = 0.8930044507306885\n",
      "1.528446973494814\n",
      "3.190333544246101\n",
      "1.7861504819712422\n",
      "The r2 score for random state 34 = 0.8925353187772842\n",
      "1.3814174764676248\n",
      "4.441816906233269\n",
      "2.107561839242984\n",
      "The r2 score for random state 35 = 0.7894798051122913\n",
      "1.1895802376379196\n",
      "2.182166746687583\n",
      "1.4772158768059538\n",
      "The r2 score for random state 36 = 0.9257848295500533\n",
      "1.381502895510373\n",
      "2.9153499874573057\n",
      "1.707439599944111\n",
      "The r2 score for random state 37 = 0.8839010155965216\n",
      "0.9953869975392419\n",
      "1.9002210156130175\n",
      "1.3784850436667848\n",
      "The r2 score for random state 38 = 0.8929096986822089\n",
      "1.3704135226260366\n",
      "3.186519524213118\n",
      "1.7850824978731705\n",
      "The r2 score for random state 39 = 0.8790637020706872\n",
      "1.581591712983586\n",
      "5.567437051703833\n",
      "2.3595417037432997\n",
      "The r2 score for random state 40 = 0.7974460522856558\n",
      "1.2338382910696386\n",
      "3.620969900551767\n",
      "1.9028846261798866\n",
      "The r2 score for random state 41 = 0.8823358557553707\n",
      "1.4650537945415458\n",
      "3.173561289370869\n",
      "1.7814492104381952\n",
      "The r2 score for random state 42 = 0.8994550077374865\n",
      "1.1607020966682395\n",
      "2.0637159157644644\n",
      "1.4365639267935362\n",
      "The r2 score for random state 43 = 0.9283082849976607\n",
      "1.3110980864203703\n",
      "2.998049877137331\n",
      "1.7314877640738127\n",
      "The r2 score for random state 44 = 0.8312440966172079\n",
      "1.0833405420274296\n",
      "2.2639199311668907\n",
      "1.5046328227068857\n",
      "The r2 score for random state 45 = 0.8952446342971138\n",
      "1.2941976873095018\n",
      "2.90194543049433\n",
      "1.7035097388903682\n",
      "The r2 score for random state 46 = 0.8503626855945617\n",
      "1.3833027522012036\n",
      "3.211935238766145\n",
      "1.7921872778161732\n",
      "The r2 score for random state 47 = 0.8860457971993417\n",
      "1.1962137878794508\n",
      "2.3315579876538166\n",
      "1.5269440027891712\n",
      "The r2 score for random state 48 = 0.9195681665636188\n",
      "1.606282115252244\n",
      "4.7902491896346024\n",
      "2.1886637909086453\n",
      "The r2 score for random state 49 = 0.8243486190652193\n",
      "1.1381165088511307\n",
      "2.1798394245237214\n",
      "1.4764279273041814\n",
      "The r2 score for random state 50 = 0.8468985417751089\n",
      "1.100316317919347\n",
      "2.1477877972578114\n",
      "1.465533280842783\n",
      "The r2 score for random state 51 = 0.9064989875542097\n",
      "1.4503797560456528\n",
      "4.416060325416267\n",
      "2.1014424392346003\n",
      "The r2 score for random state 52 = 0.8812272192533462\n",
      "1.1950403141254853\n",
      "2.0270834467770356\n",
      "1.4237568074559066\n",
      "The r2 score for random state 53 = 0.9255918882427713\n",
      "1.0597506944043564\n",
      "2.1392544038390127\n",
      "1.462619022110342\n",
      "The r2 score for random state 54 = 0.9180440014274887\n",
      "1.213084762768862\n",
      "2.444799337184972\n",
      "1.5635854109018068\n",
      "The r2 score for random state 55 = 0.9028992864920641\n",
      "1.2979511136334771\n",
      "2.7315851167446668\n",
      "1.6527507727254787\n",
      "The r2 score for random state 56 = 0.8890848187218234\n",
      "1.115327108423021\n",
      "1.9216542559287717\n",
      "1.3862374457244948\n",
      "The r2 score for random state 57 = 0.9410026969280646\n",
      "1.5202240172428663\n",
      "4.7444468848001184\n",
      "2.1781751272108765\n",
      "The r2 score for random state 58 = 0.8406030280623411\n",
      "1.1642523677481271\n",
      "2.04274498353447\n",
      "1.429246299115191\n",
      "The r2 score for random state 59 = 0.9250923919990678\n",
      "1.377916020267704\n",
      "2.6372792833391054\n",
      "1.6239702224299266\n",
      "The r2 score for random state 60 = 0.9103118570348581\n",
      "1.144238943217454\n",
      "2.013505709595939\n",
      "1.4189805176942845\n",
      "The r2 score for random state 61 = 0.8795856400469493\n",
      "1.4442715176584202\n",
      "4.874254733638717\n",
      "2.207771440534259\n",
      "The r2 score for random state 62 = 0.8417975926062344\n",
      "1.0688757265281124\n",
      "1.9853744825807382\n",
      "1.409033172988038\n",
      "The r2 score for random state 63 = 0.9028599780274638\n",
      "1.1599529879925126\n",
      "2.6020674499973238\n",
      "1.6130925112954073\n",
      "The r2 score for random state 64 = 0.8816001224011267\n",
      "1.18790412781525\n",
      "2.5671473613634888\n",
      "1.6022319936149974\n",
      "The r2 score for random state 65 = 0.8940306450833686\n",
      "1.1879846077573588\n",
      "3.5222821889965332\n",
      "1.8767744107901017\n",
      "The r2 score for random state 66 = 0.8898696370926512\n",
      "1.4083289087479796\n",
      "3.147215581882493\n",
      "1.7740393405678727\n",
      "The r2 score for random state 67 = 0.8815678640068303\n",
      "1.3284248653520616\n",
      "2.917614650597912\n",
      "1.7081026463880653\n",
      "The r2 score for random state 68 = 0.8699141310684384\n",
      "1.1471846354319128\n",
      "2.1417979442307407\n",
      "1.4634882794989308\n",
      "The r2 score for random state 69 = 0.922772103235143\n",
      "1.2105863103712917\n",
      "2.134057548892659\n",
      "1.4608413838923988\n",
      "The r2 score for random state 70 = 0.9261350538985346\n",
      "1.6640848782427278\n",
      "5.523938184255356\n",
      "2.3503059767305525\n",
      "The r2 score for random state 71 = 0.8241835277073866\n",
      "1.2517375967692435\n",
      "2.6640725781591468\n",
      "1.6321986944484261\n",
      "The r2 score for random state 72 = 0.907461151197277\n",
      "1.4827820193035366\n",
      "3.6211778844328975\n",
      "1.902939275025059\n",
      "The r2 score for random state 73 = 0.841015986386136\n",
      "1.3798739083631517\n",
      "3.974596387327348\n",
      "1.9936389811917674\n",
      "The r2 score for random state 74 = 0.8807612513516736\n",
      "1.1969617931859962\n",
      "2.597779337675227\n",
      "1.6117628044086472\n",
      "The r2 score for random state 75 = 0.9076906160304712\n",
      "1.3950458752046906\n",
      "3.42768239551598\n",
      "1.8514001176180097\n",
      "The r2 score for random state 76 = 0.7504389232301256\n",
      "1.0932754592716862\n",
      "1.7201259518608896\n",
      "1.311535722678147\n",
      "The r2 score for random state 77 = 0.937536151301751\n",
      "1.1569545259689158\n",
      "2.2318856298943297\n",
      "1.4939496744851648\n",
      "The r2 score for random state 78 = 0.9024731977951858\n",
      "1.2447619971997823\n",
      "2.5756816388849844\n",
      "1.6048930303559126\n",
      "The r2 score for random state 79 = 0.9043206901617324\n",
      "1.4049292450158357\n",
      "4.853271365395865\n",
      "2.203014154606335\n",
      "The r2 score for random state 80 = 0.8069040911814556\n",
      "1.2958343370069465\n",
      "3.1126595057302753\n",
      "1.7642730813936587\n",
      "The r2 score for random state 81 = 0.8618922124186248\n",
      "1.3753638359397677\n",
      "4.448565629765495\n",
      "2.1091623052210786\n",
      "The r2 score for random state 82 = 0.802287674533225\n",
      "1.0977889265466452\n",
      "1.9593291425115702\n",
      "1.3997603875347988\n",
      "The r2 score for random state 83 = 0.9376724410703788\n",
      "1.1427443923317022\n",
      "2.407718695905614\n",
      "1.5516825370885676\n",
      "The r2 score for random state 84 = 0.9016731927722328\n",
      "1.324486259401018\n",
      "3.8434897622181743\n",
      "1.9604820229265492\n",
      "The r2 score for random state 85 = 0.8445031394906569\n",
      "1.2281833749014412\n",
      "2.214561817701897\n",
      "1.488140389110482\n",
      "The r2 score for random state 86 = 0.9105462251615539\n",
      "1.3848259818491475\n",
      "4.296144786901209\n",
      "2.072714352461817\n",
      "The r2 score for random state 87 = 0.7639905573639244\n",
      "1.364957932851321\n",
      "4.255401251079265\n",
      "2.062862392666865\n",
      "The r2 score for random state 88 = 0.8398019358955982\n",
      "1.4597170832683002\n",
      "3.547353952638872\n",
      "1.8834420491851804\n",
      "The r2 score for random state 89 = 0.8754810865573228\n",
      "1.180790638366929\n",
      "2.463761972318653\n",
      "1.569637528959681\n",
      "The r2 score for random state 90 = 0.8513388057491913\n",
      "1.276082488676646\n",
      "2.3965330156706095\n",
      "1.5480739697025494\n",
      "The r2 score for random state 91 = 0.9042951567918209\n",
      "0.9429562258152103\n",
      "1.5007759432601797\n",
      "1.2250616079447514\n",
      "The r2 score for random state 92 = 0.9514095674628553\n",
      "1.2597842420151664\n",
      "2.59164551947165\n",
      "1.6098588507914755\n",
      "The r2 score for random state 93 = 0.9122326805870445\n",
      "1.4167940421470255\n",
      "4.352395915188604\n",
      "2.086239659096865\n",
      "The r2 score for random state 94 = 0.8568177778775757\n",
      "1.1763931798071199\n",
      "2.527895829785907\n",
      "1.5899357942338135\n",
      "The r2 score for random state 95 = 0.8942403670869862\n",
      "1.4118883973915497\n",
      "3.2653081726107174\n",
      "1.8070163730887214\n",
      "The r2 score for random state 96 = 0.8597854663484097\n",
      "1.244760903709429\n",
      "2.8907971570055007\n",
      "1.7002344417772217\n",
      "The r2 score for random state 97 = 0.9106860534061962\n",
      "1.1765495867420133\n",
      "2.0561677085503662\n",
      "1.4339343459692868\n",
      "The r2 score for random state 98 = 0.9400200196450395\n",
      "1.1591806007349397\n",
      "2.0781021501645354\n",
      "1.4415623989840105\n",
      "The r2 score for random state 99 = 0.9189321197091166\n"
     ]
    }
   ],
   "source": [
    "from sklearn.model_selection import train_test_split\n",
    "for i in range(1,100):\n",
    "    x_train,x_test,y_train,y_test=train_test_split(x,y,test_size=0.20,random_state=i)\n",
    "    lr=LinearRegression()\n",
    "    lr.fit(x_train,y_train)\n",
    "    pred=lr.predict(x_test)\n",
    "    print(mean_absolute_error(y_test,pred))\n",
    "    print(mean_squared_error(y_test,pred))\n",
    "    print(np.sqrt(mean_squared_error(y_test,pred)))\n",
    "    print(\"The r2 score for random state\",i,\"=\",r2_score(y_test,pred))"
   ]
  },
  {
   "cell_type": "markdown",
   "metadata": {},
   "source": [
    "For random state 92 ,i am getting the r2_score of 95% so i will take random_state=92"
   ]
  },
  {
   "cell_type": "code",
   "execution_count": 70,
   "metadata": {},
   "outputs": [
    {
     "name": "stdout",
     "output_type": "stream",
     "text": [
      "0.9429562258152103\n",
      "1.5007759432601797\n",
      "1.2250616079447514\n",
      "0.9514095674628553\n"
     ]
    }
   ],
   "source": [
    " x_train,x_test,y_train,y_test=train_test_split(x,y,test_size=0.20,random_state=92)\n",
    "lr=LinearRegression()\n",
    "lr.fit(x_train,y_train)\n",
    "pred1=lr.predict(x_test)\n",
    "print(mean_absolute_error(y_test,pred1))\n",
    "print(mean_squared_error(y_test,pred1))\n",
    "print(np.sqrt(mean_squared_error(y_test,pred1)))\n",
    "print(r2_score(y_test,pred1))"
   ]
  },
  {
   "cell_type": "code",
   "execution_count": 73,
   "metadata": {},
   "outputs": [
    {
     "name": "stdout",
     "output_type": "stream",
     "text": [
      "0.9429562258152103\n",
      "1.5007759432601797\n",
      "1.2250616079447514\n",
      "DecisionTreeRegressor() = 0.9514095674628553\n",
      "\n",
      "0.9429562258152103\n",
      "1.5007759432601797\n",
      "1.2250616079447514\n",
      "SVR() = 0.9514095674628553\n",
      "\n",
      "0.9429562258152103\n",
      "1.5007759432601797\n",
      "1.2250616079447514\n",
      "KNeighborsRegressor() = 0.9514095674628553\n",
      "\n",
      "0.9429562258152103\n",
      "1.5007759432601797\n",
      "1.2250616079447514\n",
      "RandomForestRegressor() = 0.9514095674628553\n",
      "\n",
      "0.9429562258152103\n",
      "1.5007759432601797\n",
      "1.2250616079447514\n",
      "AdaBoostRegressor() = 0.9514095674628553\n",
      "\n",
      "0.9429562258152103\n",
      "1.5007759432601797\n",
      "1.2250616079447514\n",
      "GradientBoostingRegressor() = 0.9514095674628553\n",
      "\n"
     ]
    }
   ],
   "source": [
    "from sklearn.ensemble import RandomForestRegressor\n",
    "models=[DecisionTreeRegressor(),SVR(),KNeighborsRegressor(),RandomForestRegressor(),AdaBoostRegressor(),GradientBoostingRegressor()]\n",
    "for i in models:\n",
    "    m=i\n",
    "    m.fit(x_train,y_train)\n",
    "    pred2=m.predict(x_test)\n",
    "    print(mean_absolute_error(y_test,pred1))\n",
    "    print(mean_squared_error(y_test,pred1))\n",
    "    print(np.sqrt(mean_squared_error(y_test,pred1)))\n",
    "    print(i,\"=\",r2_score(y_test,pred1))\n",
    "    print()"
   ]
  },
  {
   "cell_type": "markdown",
   "metadata": {},
   "source": [
    "# checking out the cross val score"
   ]
  },
  {
   "cell_type": "code",
   "execution_count": 77,
   "metadata": {},
   "outputs": [
    {
     "name": "stdout",
     "output_type": "stream",
     "text": [
      "0.8873331295445761\n"
     ]
    }
   ],
   "source": [
    "from sklearn.model_selection import cross_val_score\n",
    "score=cross_val_score(lr,x,y,cv=5)\n",
    "print(score.mean())"
   ]
  },
  {
   "cell_type": "code",
   "execution_count": 78,
   "metadata": {},
   "outputs": [
    {
     "name": "stdout",
     "output_type": "stream",
     "text": [
      "0.950204508320447\n"
     ]
    }
   ],
   "source": [
    "score=cross_val_score(DecisionTreeRegressor(),x,y,cv=5)\n",
    "print(score.mean())"
   ]
  },
  {
   "cell_type": "code",
   "execution_count": 79,
   "metadata": {},
   "outputs": [
    {
     "name": "stdout",
     "output_type": "stream",
     "text": [
      "0.9011953652320344\n"
     ]
    }
   ],
   "source": [
    "score=cross_val_score(SVR(),x,y,cv=5)\n",
    "print(score.mean())"
   ]
  },
  {
   "cell_type": "code",
   "execution_count": 80,
   "metadata": {},
   "outputs": [
    {
     "name": "stdout",
     "output_type": "stream",
     "text": [
      "0.9370596549659117\n"
     ]
    }
   ],
   "source": [
    "score=cross_val_score(KNeighborsRegressor(),x,y,cv=5)\n",
    "print(score.mean())"
   ]
  },
  {
   "cell_type": "code",
   "execution_count": 83,
   "metadata": {},
   "outputs": [
    {
     "name": "stdout",
     "output_type": "stream",
     "text": [
      "0.9756108920684889\n"
     ]
    }
   ],
   "source": [
    "score=cross_val_score(RandomForestRegressor(),x,y,cv=5)\n",
    "print(score.mean())"
   ]
  },
  {
   "cell_type": "code",
   "execution_count": 84,
   "metadata": {},
   "outputs": [
    {
     "name": "stdout",
     "output_type": "stream",
     "text": [
      "0.9543422692935788\n"
     ]
    }
   ],
   "source": [
    "score=cross_val_score(AdaBoostRegressor(),x,y,cv=5)\n",
    "print(score.mean())"
   ]
  },
  {
   "cell_type": "code",
   "execution_count": 85,
   "metadata": {},
   "outputs": [
    {
     "name": "stdout",
     "output_type": "stream",
     "text": [
      "0.9777277080747597\n"
     ]
    }
   ],
   "source": [
    "score=cross_val_score(GradientBoostingRegressor(),x,y,cv=5)\n",
    "print(score.mean())"
   ]
  },
  {
   "cell_type": "markdown",
   "metadata": {},
   "source": [
    "As i am getting r2_score of 90% in all the models have to checked out whether the model is overfitting or not using regulization techniqiues Lasso and Ridge."
   ]
  },
  {
   "cell_type": "code",
   "execution_count": 88,
   "metadata": {},
   "outputs": [
    {
     "name": "stdout",
     "output_type": "stream",
     "text": [
      "0.9429448476436505\n",
      "1.5007622836123593\n",
      "1.2250560328459916\n",
      "0.9514100097195419\n"
     ]
    }
   ],
   "source": [
    "from sklearn.linear_model import Lasso,Ridge\n",
    "ls=Lasso(alpha=0.0001)\n",
    "ls.fit(x_train,y_train)\n",
    "pred4=ls.predict(x_test)\n",
    "print(mean_absolute_error(y_test,pred4))\n",
    "print(mean_squared_error(y_test,pred4))\n",
    "print(np.sqrt(mean_squared_error(y_test,pred4)))\n",
    "print(r2_score(y_test,pred4))"
   ]
  },
  {
   "cell_type": "code",
   "execution_count": 89,
   "metadata": {},
   "outputs": [
    {
     "name": "stdout",
     "output_type": "stream",
     "text": [
      "0.9429565270944001\n",
      "1.5007767692567704\n",
      "1.2250619450692157\n",
      "0.9514095407196684\n"
     ]
    }
   ],
   "source": [
    "rd=Ridge(alpha=0.0001)\n",
    "rd.fit(x_train,y_train)\n",
    "pred5=rd.predict(x_test)\n",
    "print(mean_absolute_error(y_test,pred5))\n",
    "print(mean_squared_error(y_test,pred5))\n",
    "print(np.sqrt(mean_squared_error(y_test,pred5)))\n",
    "print(r2_score(y_test,pred5))"
   ]
  },
  {
   "cell_type": "code",
   "execution_count": 90,
   "metadata": {},
   "outputs": [
    {
     "name": "stdout",
     "output_type": "stream",
     "text": [
      "0.8873359634216254\n"
     ]
    }
   ],
   "source": [
    "score=cross_val_score(ls,x,y,cv=5)\n",
    "print(score.mean())"
   ]
  },
  {
   "cell_type": "code",
   "execution_count": 91,
   "metadata": {},
   "outputs": [
    {
     "name": "stdout",
     "output_type": "stream",
     "text": [
      "0.8873331387500674\n"
     ]
    }
   ],
   "source": [
    "score=cross_val_score(rd,x,y,cv=5)\n",
    "print(score.mean())"
   ]
  },
  {
   "cell_type": "markdown",
   "metadata": {},
   "source": [
    "Based on the difference of the r2_score and cross_val_score AdaBoostingRegressor and Decision Tree Classifier are my best models: "
   ]
  },
  {
   "cell_type": "markdown",
   "metadata": {},
   "source": [
    "Hypertuning is required to find the best model"
   ]
  },
  {
   "cell_type": "code",
   "execution_count": 93,
   "metadata": {},
   "outputs": [],
   "source": [
    "from sklearn.model_selection import RandomizedSearchCV"
   ]
  },
  {
   "cell_type": "code",
   "execution_count": 98,
   "metadata": {},
   "outputs": [],
   "source": [
    "params={'max_depth':[1,2,3,4,5,6,7,8,9,10],'max_features':['sqrt','auto']}"
   ]
  },
  {
   "cell_type": "code",
   "execution_count": 99,
   "metadata": {},
   "outputs": [
    {
     "data": {
      "text/plain": [
       "{'max_features': 'auto', 'max_depth': 9}"
      ]
     },
     "execution_count": 99,
     "metadata": {},
     "output_type": "execute_result"
    }
   ],
   "source": [
    "re=RandomizedSearchCV(DecisionTreeRegressor(),param_distributions=params,n_jobs=-1,cv=5)\n",
    "re.fit(x_train,y_train)\n",
    "re.best_params_"
   ]
  },
  {
   "cell_type": "code",
   "execution_count": 101,
   "metadata": {},
   "outputs": [
    {
     "name": "stdout",
     "output_type": "stream",
     "text": [
      "0.7399999999999999\n",
      "0.9354999999999997\n",
      "0.9672124895802368\n",
      "0.969711435046225\n"
     ]
    }
   ],
   "source": [
    "dtc=DecisionTreeRegressor(max_features='auto',max_depth=9)\n",
    "dtc.fit(x_train,y_train)\n",
    "pred6=dtc.predict(x_test)\n",
    "print(mean_absolute_error(y_test,pred6))\n",
    "print(mean_squared_error(y_test,pred6))\n",
    "print(np.sqrt(mean_squared_error(y_test,pred6)))\n",
    "print(r2_score(y_test,pred6))"
   ]
  },
  {
   "cell_type": "code",
   "execution_count": 107,
   "metadata": {},
   "outputs": [],
   "source": [
    "params={'n_estimators':[10,20,30,40,50],'learning_rate':[1,0.1,.01,.001,.0001]}"
   ]
  },
  {
   "cell_type": "code",
   "execution_count": 108,
   "metadata": {},
   "outputs": [
    {
     "data": {
      "text/plain": [
       "{'n_estimators': 10, 'learning_rate': 1}"
      ]
     },
     "execution_count": 108,
     "metadata": {},
     "output_type": "execute_result"
    }
   ],
   "source": [
    "re=RandomizedSearchCV(AdaBoostRegressor(),param_distributions=params,n_jobs=-1,cv=5)\n",
    "re.fit(x_train,y_train)\n",
    "re.best_params_"
   ]
  },
  {
   "cell_type": "code",
   "execution_count": 112,
   "metadata": {},
   "outputs": [
    {
     "name": "stdout",
     "output_type": "stream",
     "text": [
      "1.174266266229533\n",
      "2.4320175177923544\n",
      "1.5594927116829864\n",
      "0.9212588770108261\n"
     ]
    }
   ],
   "source": [
    "ada=AdaBoostRegressor(n_estimators=10, learning_rate=1)\n",
    "ada.fit(x_train,y_train)\n",
    "pred7=ada.predict(x_test)\n",
    "print(mean_absolute_error(y_test,pred7))\n",
    "print(mean_squared_error(y_test,pred7))\n",
    "print(np.sqrt(mean_squared_error(y_test,pred7)))\n",
    "print(r2_score(y_test,pred7))"
   ]
  },
  {
   "cell_type": "markdown",
   "metadata": {},
   "source": [
    "# Decision Tree Regressor is my best model having r2_score of 97%"
   ]
  },
  {
   "cell_type": "code",
   "execution_count": 113,
   "metadata": {},
   "outputs": [
    {
     "data": {
      "text/plain": [
       "Text(0.5, 1.0, 'linear Regression')"
      ]
     },
     "execution_count": 113,
     "metadata": {},
     "output_type": "execute_result"
    },
    {
     "data": {
      "image/png": "[encoded data removed]",
      "text/plain": [
       "<Figure size 576x432 with 1 Axes>"
      ]
     },
     "metadata": {
      "needs_background": "light"
     },
     "output_type": "display_data"
    }
   ],
   "source": [
    "plt.figure(figsize=(8,6))\n",
    "plt.scatter(x=y_test,y=pred6,color='r')\n",
    "plt.plot(y_test,y_test,color='b')\n",
    "plt.xlabel(\"Actual values\")\n",
    "plt.ylabel(\"Predicted values\")\n",
    "plt.title(\"linear Regression\")"
   ]
  },
  {
   "cell_type": "code",
   "execution_count": 114,
   "metadata": {},
   "outputs": [],
   "source": [
    "import joblib"
   ]
  },
  {
   "cell_type": "code",
   "execution_count": 115,
   "metadata": {},
   "outputs": [
    {
     "data": {
      "text/plain": [
       "['sales Prediction.obj']"
      ]
     },
     "execution_count": 115,
     "metadata": {},
     "output_type": "execute_result"
    }
   ],
   "source": [
    "joblib.dump('dtc','sales Prediction.obj')"
   ]
  },
  {
   "cell_type": "code",
   "execution_count": 117,
   "metadata": {},
   "outputs": [
    {
     "data": {
      "text/plain": [
       "'dtc'"
      ]
     },
     "execution_count": 117,
     "metadata": {},
     "output_type": "execute_result"
    }
   ],
   "source": [
    "joblib.load('sales Prediction.obj')"
   ]
  },
  {
   "cell_type": "code",
   "execution_count": null,
   "metadata": {},
   "outputs": [],
   "source": []
  }
 ],
 "metadata": {
  "kernelspec": {
   "display_name": "Python 3",
   "language": "python",
   "name": "python3"
  },
  "language_info": {
   "codemirror_mode": {
    "name": "ipython",
    "version": 3
   },
   "file_extension": ".py",
   "mimetype": "text/x-python",
   "name": "python",
   "nbconvert_exporter": "python",
   "pygments_lexer": "ipython3",
   "version": "3.8.5"
  }
 },
 "nbformat": 4,
 "nbformat_minor": 4
}
